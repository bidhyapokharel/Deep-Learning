{
 "cells": [
  {
   "cell_type": "code",
   "execution_count": 1,
   "id": "efe96cce",
   "metadata": {},
   "outputs": [
    {
     "name": "stdout",
     "output_type": "stream",
     "text": [
      "2.5.0\n"
     ]
    }
   ],
   "source": [
    "import tensorflow as tf\n",
    "print(tf.__version__)"
   ]
  },
  {
   "cell_type": "code",
   "execution_count": 2,
   "id": "b816e027",
   "metadata": {},
   "outputs": [],
   "source": [
    "import numpy as np\n",
    "import matplotlib.pyplot as plt"
   ]
  },
  {
   "cell_type": "code",
   "execution_count": 3,
   "id": "7085c909",
   "metadata": {},
   "outputs": [],
   "source": [
    "x = np.array([-7.0,-4.0,-1.0,2.0,5.0,8.0,11.0,14.0])"
   ]
  },
  {
   "cell_type": "code",
   "execution_count": 4,
   "id": "fcabdc6f",
   "metadata": {},
   "outputs": [],
   "source": [
    "y = np.array([3.0,6.0,9.0,12.0,15.0,18.0,21.0,24.0])"
   ]
  },
  {
   "cell_type": "code",
   "execution_count": 5,
   "id": "79fa2fee",
   "metadata": {},
   "outputs": [
    {
     "data": {
      "text/plain": [
       "<matplotlib.collections.PathCollection at 0x7ff0d3d5afd0>"
      ]
     },
     "execution_count": 5,
     "metadata": {},
     "output_type": "execute_result"
    },
    {
     "data": {
      "image/png": "[encoded data removed]",
      "text/plain": [
       "<Figure size 432x288 with 1 Axes>"
      ]
     },
     "metadata": {
      "needs_background": "light"
     },
     "output_type": "display_data"
    }
   ],
   "source": [
    "plt.scatter(x,y)"
   ]
  },
  {
   "cell_type": "code",
   "execution_count": 6,
   "id": "72361038",
   "metadata": {},
   "outputs": [
    {
     "data": {
      "text/plain": [
       "(<tf.Tensor: shape=(3,), dtype=string, numpy=array([b'bedroom', b'bathroom', b'garage'], dtype=object)>,\n",
       " <tf.Tensor: shape=(1,), dtype=int32, numpy=array([93400], dtype=int32)>)"
      ]
     },
     "execution_count": 6,
     "metadata": {},
     "output_type": "execute_result"
    }
   ],
   "source": [
    "input_data = tf.constant([\"bedroom\",\"bathroom\",\"garage\"])\n",
    "output_data = tf.constant([93400])\n",
    "input_data, output_data"
   ]
  },
  {
   "cell_type": "code",
   "execution_count": 7,
   "id": "dee33079",
   "metadata": {},
   "outputs": [
    {
     "data": {
      "text/plain": [
       "(-7.0, 3.0)"
      ]
     },
     "execution_count": 7,
     "metadata": {},
     "output_type": "execute_result"
    }
   ],
   "source": [
    "x[0],y[0]"
   ]
  },
  {
   "cell_type": "code",
   "execution_count": 8,
   "id": "152c9c8e",
   "metadata": {},
   "outputs": [
    {
     "data": {
      "text/plain": [
       "(array([-7., -4., -1.,  2.,  5.,  8., 11., 14.]),\n",
       " array([ 3.,  6.,  9., 12., 15., 18., 21., 24.]))"
      ]
     },
     "execution_count": 8,
     "metadata": {},
     "output_type": "execute_result"
    }
   ],
   "source": [
    "tf.constant(x)\n",
    "tf.constant(y)\n",
    "x, y"
   ]
  },
  {
   "cell_type": "code",
   "execution_count": 9,
   "id": "36ea5098",
   "metadata": {},
   "outputs": [
    {
     "name": "stdout",
     "output_type": "stream",
     "text": [
      "Epoch 1/5\n",
      "1/1 [==============================] - 1s 1s/step - loss: 11.5048 - mae: 11.5048\n",
      "Epoch 2/5\n",
      "1/1 [==============================] - 0s 6ms/step - loss: 11.3723 - mae: 11.3723\n",
      "Epoch 3/5\n",
      "1/1 [==============================] - 0s 6ms/step - loss: 11.2398 - mae: 11.2398\n",
      "Epoch 4/5\n",
      "1/1 [==============================] - 0s 6ms/step - loss: 11.1073 - mae: 11.1073\n",
      "Epoch 5/5\n",
      "1/1 [==============================] - 0s 4ms/step - loss: 10.9748 - mae: 10.9748\n"
     ]
    },
    {
     "data": {
      "text/plain": [
       "<tensorflow.python.keras.callbacks.History at 0x7ff09c991f70>"
      ]
     },
     "execution_count": 9,
     "metadata": {},
     "output_type": "execute_result"
    }
   ],
   "source": [
    "# Steps in modelling with tensorflow\n",
    "\n",
    "# Set Random seed\n",
    "tf.random.set_seed(42)\n",
    "\n",
    "model = tf.keras.Sequential([\n",
    "    tf.keras.layers.Dense(1)\n",
    "])\n",
    "\n",
    "model.compile(loss=tf.keras.losses.mae,\n",
    "             optimizer=tf.keras.optimizers.SGD(),\n",
    "             metrics=[\"mae\"])\n",
    "\n",
    "model.fit(x,y,epochs=5)"
   ]
  },
  {
   "cell_type": "code",
   "execution_count": 10,
   "id": "ff0e1979",
   "metadata": {},
   "outputs": [
    {
     "data": {
      "text/plain": [
       "array([[12.716021]], dtype=float32)"
      ]
     },
     "execution_count": 10,
     "metadata": {},
     "output_type": "execute_result"
    }
   ],
   "source": [
    "y_pred = model.predict([17.0])\n",
    "y_pred"
   ]
  },
  {
   "cell_type": "code",
   "execution_count": 27,
   "id": "e95f4232",
   "metadata": {},
   "outputs": [],
   "source": [
    "# Improving our model\n",
    "# Create the model\n",
    "model = tf.keras.Sequential([\n",
    "    tf.keras.layers.Dense(100, activation=\"relu\"),\n",
    "    tf.keras.layers.Dense(1)\n",
    "])"
   ]
  },
  {
   "cell_type": "code",
   "execution_count": 28,
   "id": "0cdd86a9",
   "metadata": {},
   "outputs": [],
   "source": [
    "# Compile the model\n",
    "model.compile(loss=tf.keras.losses.mae,\n",
    "              optimizer=tf.keras.optimizers.SGD(),\n",
    "              metrics=[\"mae\"])"
   ]
  },
  {
   "cell_type": "code",
   "execution_count": 29,
   "id": "734fc147",
   "metadata": {},
   "outputs": [
    {
     "name": "stdout",
     "output_type": "stream",
     "text": [
      "Epoch 1/100\n",
      "1/1 [==============================] - 0s 381ms/step - loss: 14.0407 - mae: 14.0407\n",
      "Epoch 2/100\n",
      "1/1 [==============================] - 0s 4ms/step - loss: 13.4800 - mae: 13.4800\n",
      "Epoch 3/100\n",
      "1/1 [==============================] - 0s 6ms/step - loss: 12.9217 - mae: 12.9217\n",
      "Epoch 4/100\n",
      "1/1 [==============================] - 0s 7ms/step - loss: 12.3612 - mae: 12.3612\n",
      "Epoch 5/100\n",
      "1/1 [==============================] - 0s 5ms/step - loss: 11.7937 - mae: 11.7937\n",
      "Epoch 6/100\n",
      "1/1 [==============================] - 0s 7ms/step - loss: 11.2106 - mae: 11.2106\n",
      "Epoch 7/100\n",
      "1/1 [==============================] - 0s 2ms/step - loss: 10.6209 - mae: 10.6209\n",
      "Epoch 8/100\n",
      "1/1 [==============================] - 0s 5ms/step - loss: 10.0058 - mae: 10.0058\n",
      "Epoch 9/100\n",
      "1/1 [==============================] - 0s 5ms/step - loss: 9.3625 - mae: 9.3625\n",
      "Epoch 10/100\n",
      "1/1 [==============================] - 0s 5ms/step - loss: 8.6887 - mae: 8.6887\n",
      "Epoch 11/100\n",
      "1/1 [==============================] - 0s 7ms/step - loss: 7.9730 - mae: 7.9730\n",
      "Epoch 12/100\n",
      "1/1 [==============================] - 0s 4ms/step - loss: 7.2130 - mae: 7.2130\n",
      "Epoch 13/100\n",
      "1/1 [==============================] - 0s 6ms/step - loss: 6.3984 - mae: 6.3984\n",
      "Epoch 14/100\n",
      "1/1 [==============================] - 0s 6ms/step - loss: 5.5215 - mae: 5.5215\n",
      "Epoch 15/100\n",
      "1/1 [==============================] - 0s 7ms/step - loss: 4.5762 - mae: 4.5762\n",
      "Epoch 16/100\n",
      "1/1 [==============================] - 0s 4ms/step - loss: 4.0920 - mae: 4.0920\n",
      "Epoch 17/100\n",
      "1/1 [==============================] - 0s 5ms/step - loss: 4.0292 - mae: 4.0292\n",
      "Epoch 18/100\n",
      "1/1 [==============================] - 0s 8ms/step - loss: 3.9887 - mae: 3.9887\n",
      "Epoch 19/100\n",
      "1/1 [==============================] - 0s 8ms/step - loss: 3.9591 - mae: 3.9591\n",
      "Epoch 20/100\n",
      "1/1 [==============================] - 0s 5ms/step - loss: 3.8951 - mae: 3.8951\n",
      "Epoch 21/100\n",
      "1/1 [==============================] - 0s 6ms/step - loss: 3.9391 - mae: 3.9391\n",
      "Epoch 22/100\n",
      "1/1 [==============================] - 0s 16ms/step - loss: 3.8718 - mae: 3.8718\n",
      "Epoch 23/100\n",
      "1/1 [==============================] - 0s 8ms/step - loss: 3.9498 - mae: 3.9498\n",
      "Epoch 24/100\n",
      "1/1 [==============================] - 0s 9ms/step - loss: 3.8853 - mae: 3.8853\n",
      "Epoch 25/100\n",
      "1/1 [==============================] - 0s 7ms/step - loss: 3.9245 - mae: 3.9245\n",
      "Epoch 26/100\n",
      "1/1 [==============================] - 0s 8ms/step - loss: 3.8929 - mae: 3.8929\n",
      "Epoch 27/100\n",
      "1/1 [==============================] - 0s 7ms/step - loss: 3.8991 - mae: 3.8991\n",
      "Epoch 28/100\n",
      "1/1 [==============================] - 0s 6ms/step - loss: 3.9005 - mae: 3.9005\n",
      "Epoch 29/100\n",
      "1/1 [==============================] - 0s 5ms/step - loss: 3.8734 - mae: 3.8734\n",
      "Epoch 30/100\n",
      "1/1 [==============================] - 0s 4ms/step - loss: 3.9084 - mae: 3.9084\n",
      "Epoch 31/100\n",
      "1/1 [==============================] - 0s 7ms/step - loss: 3.8507 - mae: 3.8507\n",
      "Epoch 32/100\n",
      "1/1 [==============================] - 0s 9ms/step - loss: 3.9226 - mae: 3.9226\n",
      "Epoch 33/100\n",
      "1/1 [==============================] - 0s 11ms/step - loss: 3.8550 - mae: 3.8550\n",
      "Epoch 34/100\n",
      "1/1 [==============================] - 0s 6ms/step - loss: 3.9021 - mae: 3.9021\n",
      "Epoch 35/100\n",
      "1/1 [==============================] - 0s 6ms/step - loss: 3.8628 - mae: 3.8628\n",
      "Epoch 36/100\n",
      "1/1 [==============================] - 0s 8ms/step - loss: 3.8763 - mae: 3.8763\n",
      "Epoch 37/100\n",
      "1/1 [==============================] - 0s 14ms/step - loss: 3.8707 - mae: 3.8707\n",
      "Epoch 38/100\n",
      "1/1 [==============================] - 0s 8ms/step - loss: 3.8504 - mae: 3.8504\n",
      "Epoch 39/100\n",
      "1/1 [==============================] - 0s 9ms/step - loss: 3.8787 - mae: 3.8787\n",
      "Epoch 40/100\n",
      "1/1 [==============================] - 0s 5ms/step - loss: 3.8298 - mae: 3.8298\n",
      "Epoch 41/100\n",
      "1/1 [==============================] - 0s 8ms/step - loss: 3.8932 - mae: 3.8932\n",
      "Epoch 42/100\n",
      "1/1 [==============================] - 0s 4ms/step - loss: 3.8259 - mae: 3.8259\n",
      "Epoch 43/100\n",
      "1/1 [==============================] - 0s 9ms/step - loss: 3.8783 - mae: 3.8783\n",
      "Epoch 44/100\n",
      "1/1 [==============================] - 0s 5ms/step - loss: 3.8339 - mae: 3.8339\n",
      "Epoch 45/100\n",
      "1/1 [==============================] - 0s 4ms/step - loss: 3.8523 - mae: 3.8523\n",
      "Epoch 46/100\n",
      "1/1 [==============================] - 0s 4ms/step - loss: 3.8420 - mae: 3.8420\n",
      "Epoch 47/100\n",
      "1/1 [==============================] - 0s 8ms/step - loss: 3.8262 - mae: 3.8262\n",
      "Epoch 48/100\n",
      "1/1 [==============================] - 0s 5ms/step - loss: 3.8517 - mae: 3.8517\n",
      "Epoch 49/100\n",
      "1/1 [==============================] - 0s 5ms/step - loss: 3.8055 - mae: 3.8055\n",
      "Epoch 50/100\n",
      "1/1 [==============================] - 0s 10ms/step - loss: 3.8648 - mae: 3.8648\n",
      "Epoch 51/100\n",
      "1/1 [==============================] - 0s 7ms/step - loss: 3.7979 - mae: 3.7979\n",
      "Epoch 52/100\n",
      "1/1 [==============================] - 0s 4ms/step - loss: 3.8533 - mae: 3.8533\n",
      "Epoch 53/100\n",
      "1/1 [==============================] - 0s 7ms/step - loss: 3.8061 - mae: 3.8061\n",
      "Epoch 54/100\n",
      "1/1 [==============================] - 0s 6ms/step - loss: 3.8270 - mae: 3.8270\n",
      "Epoch 55/100\n",
      "1/1 [==============================] - 0s 4ms/step - loss: 3.8144 - mae: 3.8144\n",
      "Epoch 56/100\n",
      "1/1 [==============================] - 0s 9ms/step - loss: 3.8006 - mae: 3.8006\n",
      "Epoch 57/100\n",
      "1/1 [==============================] - 0s 5ms/step - loss: 3.8264 - mae: 3.8264\n",
      "Epoch 58/100\n",
      "1/1 [==============================] - 0s 5ms/step - loss: 3.7796 - mae: 3.7796\n",
      "Epoch 59/100\n",
      "1/1 [==============================] - 0s 11ms/step - loss: 3.8376 - mae: 3.8376\n",
      "Epoch 60/100\n",
      "1/1 [==============================] - 0s 8ms/step - loss: 3.7710 - mae: 3.7710\n",
      "Epoch 61/100\n",
      "1/1 [==============================] - 0s 5ms/step - loss: 3.8270 - mae: 3.8270\n",
      "Epoch 62/100\n",
      "1/1 [==============================] - 0s 6ms/step - loss: 3.7794 - mae: 3.7794\n",
      "Epoch 63/100\n",
      "1/1 [==============================] - 0s 8ms/step - loss: 3.8004 - mae: 3.8004\n",
      "Epoch 64/100\n",
      "1/1 [==============================] - 0s 7ms/step - loss: 3.7879 - mae: 3.7879\n",
      "Epoch 65/100\n",
      "1/1 [==============================] - 0s 6ms/step - loss: 3.7737 - mae: 3.7737\n",
      "Epoch 66/100\n",
      "1/1 [==============================] - 0s 6ms/step - loss: 3.8027 - mae: 3.8027\n",
      "Epoch 67/100\n",
      "1/1 [==============================] - 0s 9ms/step - loss: 3.7524 - mae: 3.7524\n",
      "Epoch 68/100\n",
      "1/1 [==============================] - 0s 6ms/step - loss: 3.8114 - mae: 3.8114\n",
      "Epoch 69/100\n",
      "1/1 [==============================] - 0s 7ms/step - loss: 3.7451 - mae: 3.7451\n",
      "Epoch 70/100\n",
      "1/1 [==============================] - 0s 6ms/step - loss: 3.7994 - mae: 3.7994\n",
      "Epoch 71/100\n",
      "1/1 [==============================] - 0s 7ms/step - loss: 3.7537 - mae: 3.7537\n",
      "Epoch 72/100\n",
      "1/1 [==============================] - 0s 9ms/step - loss: 3.7726 - mae: 3.7726\n",
      "Epoch 73/100\n",
      "1/1 [==============================] - 0s 4ms/step - loss: 3.7624 - mae: 3.7624\n",
      "Epoch 74/100\n",
      "1/1 [==============================] - 0s 6ms/step - loss: 3.7474 - mae: 3.7474\n",
      "Epoch 75/100\n",
      "1/1 [==============================] - 0s 9ms/step - loss: 3.7774 - mae: 3.7774\n",
      "Epoch 76/100\n",
      "1/1 [==============================] - 0s 9ms/step - loss: 3.7238 - mae: 3.7238\n",
      "Epoch 77/100\n",
      "1/1 [==============================] - 0s 6ms/step - loss: 3.7863 - mae: 3.7863\n",
      "Epoch 78/100\n",
      "1/1 [==============================] - 0s 5ms/step - loss: 3.7203 - mae: 3.7203\n",
      "Epoch 79/100\n",
      "1/1 [==============================] - 0s 6ms/step - loss: 3.7705 - mae: 3.7705\n",
      "Epoch 80/100\n",
      "1/1 [==============================] - 0s 5ms/step - loss: 3.7290 - mae: 3.7290\n",
      "Epoch 81/100\n",
      "1/1 [==============================] - 0s 5ms/step - loss: 3.7433 - mae: 3.7433\n",
      "Epoch 82/100\n",
      "1/1 [==============================] - 0s 12ms/step - loss: 3.7379 - mae: 3.7379\n",
      "Epoch 83/100\n",
      "1/1 [==============================] - 0s 11ms/step - loss: 3.7196 - mae: 3.7196\n",
      "Epoch 84/100\n",
      "1/1 [==============================] - 0s 10ms/step - loss: 3.7531 - mae: 3.7531\n",
      "Epoch 85/100\n",
      "1/1 [==============================] - 0s 8ms/step - loss: 3.6939 - mae: 3.6939\n",
      "Epoch 86/100\n",
      "1/1 [==============================] - 0s 6ms/step - loss: 3.7622 - mae: 3.7622\n",
      "Epoch 87/100\n",
      "1/1 [==============================] - 0s 9ms/step - loss: 3.6964 - mae: 3.6964\n",
      "Epoch 88/100\n"
     ]
    },
    {
     "name": "stdout",
     "output_type": "stream",
     "text": [
      "1/1 [==============================] - 0s 6ms/step - loss: 3.7403 - mae: 3.7403\n",
      "Epoch 89/100\n",
      "1/1 [==============================] - 0s 10ms/step - loss: 3.7054 - mae: 3.7054\n",
      "Epoch 90/100\n",
      "1/1 [==============================] - 0s 5ms/step - loss: 3.7128 - mae: 3.7128\n",
      "Epoch 91/100\n",
      "1/1 [==============================] - 0s 6ms/step - loss: 3.7145 - mae: 3.7145\n",
      "Epoch 92/100\n",
      "1/1 [==============================] - 0s 6ms/step - loss: 3.6903 - mae: 3.6903\n",
      "Epoch 93/100\n",
      "1/1 [==============================] - 0s 6ms/step - loss: 3.7299 - mae: 3.7299\n",
      "Epoch 94/100\n",
      "1/1 [==============================] - 0s 6ms/step - loss: 3.6645 - mae: 3.6645\n",
      "Epoch 95/100\n",
      "1/1 [==============================] - 0s 4ms/step - loss: 3.7364 - mae: 3.7364\n",
      "Epoch 96/100\n",
      "1/1 [==============================] - 0s 9ms/step - loss: 3.6735 - mae: 3.6735\n",
      "Epoch 97/100\n",
      "1/1 [==============================] - 0s 5ms/step - loss: 3.7087 - mae: 3.7087\n",
      "Epoch 98/100\n",
      "1/1 [==============================] - 0s 4ms/step - loss: 3.6827 - mae: 3.6827\n",
      "Epoch 99/100\n",
      "1/1 [==============================] - 0s 6ms/step - loss: 3.6808 - mae: 3.6808\n",
      "Epoch 100/100\n",
      "1/1 [==============================] - 0s 4ms/step - loss: 3.6927 - mae: 3.6927\n"
     ]
    },
    {
     "data": {
      "text/plain": [
       "<tensorflow.python.keras.callbacks.History at 0x7ff09405df10>"
      ]
     },
     "execution_count": 29,
     "metadata": {},
     "output_type": "execute_result"
    }
   ],
   "source": [
    "model.fit(x,y,epochs=100)"
   ]
  },
  {
   "cell_type": "code",
   "execution_count": 30,
   "id": "80534172",
   "metadata": {},
   "outputs": [
    {
     "data": {
      "text/plain": [
       "array([[31.727648]], dtype=float32)"
      ]
     },
     "execution_count": 30,
     "metadata": {},
     "output_type": "execute_result"
    }
   ],
   "source": [
    "model.predict([17.0])"
   ]
  },
  {
   "cell_type": "code",
   "execution_count": null,
   "id": "73937404",
   "metadata": {},
   "outputs": [],
   "source": []
  }
 ],
 "metadata": {
  "kernelspec": {
   "display_name": "Python 3",
   "language": "python",
   "name": "python3"
  },
  "language_info": {
   "codemirror_mode": {
    "name": "ipython",
    "version": 3
   },
   "file_extension": ".py",
   "mimetype": "text/x-python",
   "name": "python",
   "nbconvert_exporter": "python",
   "pygments_lexer": "ipython3",
   "version": "3.8.5"
  }
 },
 "nbformat": 4,
 "nbformat_minor": 5
}
