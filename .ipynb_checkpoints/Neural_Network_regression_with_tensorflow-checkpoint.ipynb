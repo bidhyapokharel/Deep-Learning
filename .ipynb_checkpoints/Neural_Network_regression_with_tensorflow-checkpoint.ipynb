{
 "cells": [
  {
   "cell_type": "code",
   "execution_count": 1,
   "id": "efe96cce",
   "metadata": {},
   "outputs": [
    {
     "name": "stdout",
     "output_type": "stream",
     "text": [
      "2.5.0\n"
     ]
    }
   ],
   "source": [
    "import tensorflow as tf\n",
    "print(tf.__version__)"
   ]
  },
  {
   "cell_type": "code",
   "execution_count": 2,
   "id": "b816e027",
   "metadata": {},
   "outputs": [],
   "source": [
    "import numpy as np\n",
    "import matplotlib.pyplot as plt"
   ]
  },
  {
   "cell_type": "code",
   "execution_count": 3,
   "id": "7085c909",
   "metadata": {},
   "outputs": [],
   "source": [
    "x = np.array([-7.0,-4.0,-1.0,2.0,5.0,8.0,11.0,14.0])"
   ]
  },
  {
   "cell_type": "code",
   "execution_count": 4,
   "id": "fcabdc6f",
   "metadata": {},
   "outputs": [],
   "source": [
    "y = np.array([3.0,6.0,9.0,12.0,15.0,18.0,21.0,24.0])"
   ]
  },
  {
   "cell_type": "code",
   "execution_count": 5,
   "id": "79fa2fee",
   "metadata": {},
   "outputs": [
    {
     "data": {
      "text/plain": [
       "<matplotlib.collections.PathCollection at 0x7f494c0e2760>"
      ]
     },
     "execution_count": 5,
     "metadata": {},
     "output_type": "execute_result"
    },
    {
     "data": {
      "image/png": "[encoded data removed]",
      "text/plain": [
       "<Figure size 432x288 with 1 Axes>"
      ]
     },
     "metadata": {
      "needs_background": "light"
     },
     "output_type": "display_data"
    }
   ],
   "source": [
    "plt.scatter(x,y)"
   ]
  },
  {
   "cell_type": "code",
   "execution_count": 6,
   "id": "72361038",
   "metadata": {},
   "outputs": [
    {
     "data": {
      "text/plain": [
       "(<tf.Tensor: shape=(3,), dtype=string, numpy=array([b'bedroom', b'bathroom', b'garage'], dtype=object)>,\n",
       " <tf.Tensor: shape=(1,), dtype=int32, numpy=array([93400], dtype=int32)>)"
      ]
     },
     "execution_count": 6,
     "metadata": {},
     "output_type": "execute_result"
    }
   ],
   "source": [
    "input_data = tf.constant([\"bedroom\",\"bathroom\",\"garage\"])\n",
    "output_data = tf.constant([93400])\n",
    "input_data, output_data"
   ]
  },
  {
   "cell_type": "code",
   "execution_count": 7,
   "id": "dee33079",
   "metadata": {},
   "outputs": [
    {
     "data": {
      "text/plain": [
       "(-7.0, 3.0)"
      ]
     },
     "execution_count": 7,
     "metadata": {},
     "output_type": "execute_result"
    }
   ],
   "source": [
    "x[0],y[0]"
   ]
  },
  {
   "cell_type": "code",
   "execution_count": 8,
   "id": "152c9c8e",
   "metadata": {},
   "outputs": [
    {
     "data": {
      "text/plain": [
       "(array([-7., -4., -1.,  2.,  5.,  8., 11., 14.]),\n",
       " array([ 3.,  6.,  9., 12., 15., 18., 21., 24.]))"
      ]
     },
     "execution_count": 8,
     "metadata": {},
     "output_type": "execute_result"
    }
   ],
   "source": [
    "tf.constant(x)\n",
    "tf.constant(y)\n",
    "x, y"
   ]
  },
  {
   "cell_type": "code",
   "execution_count": 9,
   "id": "36ea5098",
   "metadata": {},
   "outputs": [
    {
     "name": "stdout",
     "output_type": "stream",
     "text": [
      "Epoch 1/5\n",
      "1/1 [==============================] - 0s 379ms/step - loss: 11.5048 - mae: 11.5048\n",
      "Epoch 2/5\n",
      "1/1 [==============================] - 0s 3ms/step - loss: 11.3723 - mae: 11.3723\n",
      "Epoch 3/5\n",
      "1/1 [==============================] - 0s 6ms/step - loss: 11.2398 - mae: 11.2398\n",
      "Epoch 4/5\n",
      "1/1 [==============================] - 0s 3ms/step - loss: 11.1073 - mae: 11.1073\n",
      "Epoch 5/5\n",
      "1/1 [==============================] - 0s 10ms/step - loss: 10.9748 - mae: 10.9748\n"
     ]
    },
    {
     "data": {
      "text/plain": [
       "<tensorflow.python.keras.callbacks.History at 0x7f4918d78b80>"
      ]
     },
     "execution_count": 9,
     "metadata": {},
     "output_type": "execute_result"
    }
   ],
   "source": [
    "# Steps in modelling with tensorflow\n",
    "\n",
    "# Set Random seed\n",
    "tf.random.set_seed(42)\n",
    "\n",
    "model = tf.keras.Sequential([\n",
    "    tf.keras.layers.Dense(1)\n",
    "])\n",
    "\n",
    "model.compile(loss=tf.keras.losses.mae,\n",
    "             optimizer=tf.keras.optimizers.SGD(),\n",
    "             metrics=[\"mae\"])\n",
    "\n",
    "model.fit(x,y,epochs=5)"
   ]
  },
  {
   "cell_type": "code",
   "execution_count": 10,
   "id": "ff0e1979",
   "metadata": {},
   "outputs": [
    {
     "data": {
      "text/plain": [
       "array([[12.716021]], dtype=float32)"
      ]
     },
     "execution_count": 10,
     "metadata": {},
     "output_type": "execute_result"
    }
   ],
   "source": [
    "y_pred = model.predict([17.0])\n",
    "y_pred"
   ]
  },
  {
   "cell_type": "code",
   "execution_count": 11,
   "id": "e95f4232",
   "metadata": {},
   "outputs": [],
   "source": [
    "# Improving our model\n",
    "# Create the model\n",
    "model = tf.keras.Sequential([\n",
    "    tf.keras.layers.Dense(1)\n",
    "])"
   ]
  },
  {
   "cell_type": "code",
   "execution_count": 12,
   "id": "6a07e00d",
   "metadata": {},
   "outputs": [],
   "source": [
    "# Compile the model\n",
    "model.compile(loss=tf.keras.losses.mae,\n",
    "              optimizer=tf.keras.optimizers.SGD(),\n",
    "              metrics=[\"mae\"])"
   ]
  },
  {
   "cell_type": "code",
   "execution_count": 13,
   "id": "0d6ffa41",
   "metadata": {},
   "outputs": [
    {
     "name": "stdout",
     "output_type": "stream",
     "text": [
      "Epoch 1/100\n",
      "1/1 [==============================] - 0s 393ms/step - loss: 11.2219 - mae: 11.2219\n",
      "Epoch 2/100\n",
      "1/1 [==============================] - 0s 5ms/step - loss: 11.0894 - mae: 11.0894\n",
      "Epoch 3/100\n",
      "1/1 [==============================] - 0s 4ms/step - loss: 10.9569 - mae: 10.9569\n",
      "Epoch 4/100\n",
      "1/1 [==============================] - 0s 4ms/step - loss: 10.8244 - mae: 10.8244\n",
      "Epoch 5/100\n",
      "1/1 [==============================] - 0s 4ms/step - loss: 10.6919 - mae: 10.6919\n",
      "Epoch 6/100\n",
      "1/1 [==============================] - 0s 4ms/step - loss: 10.5594 - mae: 10.5594\n",
      "Epoch 7/100\n",
      "1/1 [==============================] - 0s 5ms/step - loss: 10.4269 - mae: 10.4269\n",
      "Epoch 8/100\n",
      "1/1 [==============================] - 0s 3ms/step - loss: 10.2944 - mae: 10.2944\n",
      "Epoch 9/100\n",
      "1/1 [==============================] - 0s 5ms/step - loss: 10.1619 - mae: 10.1619\n",
      "Epoch 10/100\n",
      "1/1 [==============================] - 0s 4ms/step - loss: 10.0294 - mae: 10.0294\n",
      "Epoch 11/100\n",
      "1/1 [==============================] - 0s 8ms/step - loss: 9.8969 - mae: 9.8969\n",
      "Epoch 12/100\n",
      "1/1 [==============================] - 0s 4ms/step - loss: 9.7644 - mae: 9.7644\n",
      "Epoch 13/100\n",
      "1/1 [==============================] - 0s 6ms/step - loss: 9.6319 - mae: 9.6319\n",
      "Epoch 14/100\n",
      "1/1 [==============================] - 0s 4ms/step - loss: 9.4994 - mae: 9.4994\n",
      "Epoch 15/100\n",
      "1/1 [==============================] - 0s 6ms/step - loss: 9.3669 - mae: 9.3669\n",
      "Epoch 16/100\n",
      "1/1 [==============================] - 0s 10ms/step - loss: 9.2344 - mae: 9.2344\n",
      "Epoch 17/100\n",
      "1/1 [==============================] - 0s 3ms/step - loss: 9.1019 - mae: 9.1019\n",
      "Epoch 18/100\n",
      "1/1 [==============================] - 0s 7ms/step - loss: 8.9694 - mae: 8.9694\n",
      "Epoch 19/100\n",
      "1/1 [==============================] - 0s 4ms/step - loss: 8.8369 - mae: 8.8369\n",
      "Epoch 20/100\n",
      "1/1 [==============================] - 0s 5ms/step - loss: 8.7044 - mae: 8.7044\n",
      "Epoch 21/100\n",
      "1/1 [==============================] - 0s 3ms/step - loss: 8.5719 - mae: 8.5719\n",
      "Epoch 22/100\n",
      "1/1 [==============================] - 0s 5ms/step - loss: 8.4394 - mae: 8.4394\n",
      "Epoch 23/100\n",
      "1/1 [==============================] - 0s 8ms/step - loss: 8.3069 - mae: 8.3069\n",
      "Epoch 24/100\n",
      "1/1 [==============================] - 0s 5ms/step - loss: 8.1744 - mae: 8.1744\n",
      "Epoch 25/100\n",
      "1/1 [==============================] - 0s 10ms/step - loss: 8.0419 - mae: 8.0419\n",
      "Epoch 26/100\n",
      "1/1 [==============================] - 0s 3ms/step - loss: 7.9094 - mae: 7.9094\n",
      "Epoch 27/100\n",
      "1/1 [==============================] - 0s 7ms/step - loss: 7.7769 - mae: 7.7769\n",
      "Epoch 28/100\n",
      "1/1 [==============================] - 0s 4ms/step - loss: 7.6444 - mae: 7.6444\n",
      "Epoch 29/100\n",
      "1/1 [==============================] - 0s 6ms/step - loss: 7.5119 - mae: 7.5119\n",
      "Epoch 30/100\n",
      "1/1 [==============================] - 0s 5ms/step - loss: 7.3794 - mae: 7.3794\n",
      "Epoch 31/100\n",
      "1/1 [==============================] - ETA: 0s - loss: 7.2750 - mae: 7.275 - 0s 4ms/step - loss: 7.2750 - mae: 7.2750\n",
      "Epoch 32/100\n",
      "1/1 [==============================] - 0s 8ms/step - loss: 7.2694 - mae: 7.2694\n",
      "Epoch 33/100\n",
      "1/1 [==============================] - 0s 4ms/step - loss: 7.2638 - mae: 7.2638\n",
      "Epoch 34/100\n",
      "1/1 [==============================] - 0s 5ms/step - loss: 7.2581 - mae: 7.2581\n",
      "Epoch 35/100\n",
      "1/1 [==============================] - 0s 7ms/step - loss: 7.2525 - mae: 7.2525\n",
      "Epoch 36/100\n",
      "1/1 [==============================] - 0s 5ms/step - loss: 7.2469 - mae: 7.2469\n",
      "Epoch 37/100\n",
      "1/1 [==============================] - 0s 5ms/step - loss: 7.2412 - mae: 7.2412\n",
      "Epoch 38/100\n",
      "1/1 [==============================] - 0s 3ms/step - loss: 7.2356 - mae: 7.2356\n",
      "Epoch 39/100\n",
      "1/1 [==============================] - 0s 4ms/step - loss: 7.2300 - mae: 7.2300\n",
      "Epoch 40/100\n",
      "1/1 [==============================] - 0s 7ms/step - loss: 7.2244 - mae: 7.2244\n",
      "Epoch 41/100\n",
      "1/1 [==============================] - 0s 5ms/step - loss: 7.2188 - mae: 7.2188\n",
      "Epoch 42/100\n",
      "1/1 [==============================] - 0s 4ms/step - loss: 7.2131 - mae: 7.2131\n",
      "Epoch 43/100\n",
      "1/1 [==============================] - 0s 6ms/step - loss: 7.2075 - mae: 7.2075\n",
      "Epoch 44/100\n",
      "1/1 [==============================] - 0s 8ms/step - loss: 7.2019 - mae: 7.2019\n",
      "Epoch 45/100\n",
      "1/1 [==============================] - 0s 5ms/step - loss: 7.1962 - mae: 7.1962\n",
      "Epoch 46/100\n",
      "1/1 [==============================] - 0s 6ms/step - loss: 7.1906 - mae: 7.1906\n",
      "Epoch 47/100\n",
      "1/1 [==============================] - 0s 6ms/step - loss: 7.1850 - mae: 7.1850\n",
      "Epoch 48/100\n",
      "1/1 [==============================] - 0s 5ms/step - loss: 7.1794 - mae: 7.1794\n",
      "Epoch 49/100\n",
      "1/1 [==============================] - 0s 8ms/step - loss: 7.1737 - mae: 7.1737\n",
      "Epoch 50/100\n",
      "1/1 [==============================] - 0s 7ms/step - loss: 7.1681 - mae: 7.1681\n",
      "Epoch 51/100\n",
      "1/1 [==============================] - 0s 6ms/step - loss: 7.1625 - mae: 7.1625\n",
      "Epoch 52/100\n",
      "1/1 [==============================] - 0s 4ms/step - loss: 7.1569 - mae: 7.1569\n",
      "Epoch 53/100\n",
      "1/1 [==============================] - 0s 6ms/step - loss: 7.1512 - mae: 7.1512\n",
      "Epoch 54/100\n",
      "1/1 [==============================] - 0s 8ms/step - loss: 7.1456 - mae: 7.1456\n",
      "Epoch 55/100\n",
      "1/1 [==============================] - 0s 7ms/step - loss: 7.1400 - mae: 7.1400\n",
      "Epoch 56/100\n",
      "1/1 [==============================] - 0s 7ms/step - loss: 7.1344 - mae: 7.1344\n",
      "Epoch 57/100\n",
      "1/1 [==============================] - 0s 9ms/step - loss: 7.1287 - mae: 7.1287\n",
      "Epoch 58/100\n",
      "1/1 [==============================] - 0s 6ms/step - loss: 7.1231 - mae: 7.1231\n",
      "Epoch 59/100\n",
      "1/1 [==============================] - 0s 8ms/step - loss: 7.1175 - mae: 7.1175\n",
      "Epoch 60/100\n",
      "1/1 [==============================] - 0s 7ms/step - loss: 7.1119 - mae: 7.1119\n",
      "Epoch 61/100\n",
      "1/1 [==============================] - 0s 6ms/step - loss: 7.1062 - mae: 7.1062\n",
      "Epoch 62/100\n",
      "1/1 [==============================] - 0s 5ms/step - loss: 7.1006 - mae: 7.1006\n",
      "Epoch 63/100\n",
      "1/1 [==============================] - 0s 6ms/step - loss: 7.0950 - mae: 7.0950\n",
      "Epoch 64/100\n",
      "1/1 [==============================] - 0s 3ms/step - loss: 7.0894 - mae: 7.0894\n",
      "Epoch 65/100\n",
      "1/1 [==============================] - 0s 3ms/step - loss: 7.0838 - mae: 7.0838\n",
      "Epoch 66/100\n",
      "1/1 [==============================] - 0s 4ms/step - loss: 7.0781 - mae: 7.0781\n",
      "Epoch 67/100\n",
      "1/1 [==============================] - 0s 6ms/step - loss: 7.0725 - mae: 7.0725\n",
      "Epoch 68/100\n",
      "1/1 [==============================] - 0s 7ms/step - loss: 7.0669 - mae: 7.0669\n",
      "Epoch 69/100\n",
      "1/1 [==============================] - 0s 6ms/step - loss: 7.0613 - mae: 7.0613\n",
      "Epoch 70/100\n",
      "1/1 [==============================] - 0s 6ms/step - loss: 7.0556 - mae: 7.0556\n",
      "Epoch 71/100\n",
      "1/1 [==============================] - 0s 5ms/step - loss: 7.0500 - mae: 7.0500\n",
      "Epoch 72/100\n",
      "1/1 [==============================] - 0s 8ms/step - loss: 7.0444 - mae: 7.0444\n",
      "Epoch 73/100\n",
      "1/1 [==============================] - 0s 5ms/step - loss: 7.0388 - mae: 7.0388\n",
      "Epoch 74/100\n",
      "1/1 [==============================] - 0s 5ms/step - loss: 7.0331 - mae: 7.0331\n",
      "Epoch 75/100\n",
      "1/1 [==============================] - 0s 5ms/step - loss: 7.0275 - mae: 7.0275\n",
      "Epoch 76/100\n",
      "1/1 [==============================] - 0s 8ms/step - loss: 7.0219 - mae: 7.0219\n",
      "Epoch 77/100\n",
      "1/1 [==============================] - 0s 3ms/step - loss: 7.0163 - mae: 7.0163\n",
      "Epoch 78/100\n",
      "1/1 [==============================] - 0s 7ms/step - loss: 7.0106 - mae: 7.0106\n",
      "Epoch 79/100\n",
      "1/1 [==============================] - 0s 6ms/step - loss: 7.0050 - mae: 7.0050\n",
      "Epoch 80/100\n",
      "1/1 [==============================] - 0s 9ms/step - loss: 6.9994 - mae: 6.9994\n",
      "Epoch 81/100\n",
      "1/1 [==============================] - 0s 7ms/step - loss: 6.9938 - mae: 6.9938\n",
      "Epoch 82/100\n",
      "1/1 [==============================] - 0s 5ms/step - loss: 6.9881 - mae: 6.9881\n",
      "Epoch 83/100\n",
      "1/1 [==============================] - 0s 7ms/step - loss: 6.9825 - mae: 6.9825\n",
      "Epoch 84/100\n",
      "1/1 [==============================] - 0s 8ms/step - loss: 6.9769 - mae: 6.9769\n",
      "Epoch 85/100\n",
      "1/1 [==============================] - 0s 13ms/step - loss: 6.9713 - mae: 6.9713\n",
      "Epoch 86/100\n",
      "1/1 [==============================] - 0s 7ms/step - loss: 6.9656 - mae: 6.9656\n",
      "Epoch 87/100\n",
      "1/1 [==============================] - 0s 8ms/step - loss: 6.9600 - mae: 6.9600\n",
      "Epoch 88/100\n"
     ]
    },
    {
     "name": "stdout",
     "output_type": "stream",
     "text": [
      "1/1 [==============================] - 0s 5ms/step - loss: 6.9544 - mae: 6.9544\n",
      "Epoch 89/100\n",
      "1/1 [==============================] - 0s 12ms/step - loss: 6.9488 - mae: 6.9488\n",
      "Epoch 90/100\n",
      "1/1 [==============================] - 0s 5ms/step - loss: 6.9431 - mae: 6.9431\n",
      "Epoch 91/100\n",
      "1/1 [==============================] - 0s 5ms/step - loss: 6.9375 - mae: 6.9375\n",
      "Epoch 92/100\n",
      "1/1 [==============================] - 0s 9ms/step - loss: 6.9319 - mae: 6.9319\n",
      "Epoch 93/100\n",
      "1/1 [==============================] - 0s 11ms/step - loss: 6.9263 - mae: 6.9263\n",
      "Epoch 94/100\n",
      "1/1 [==============================] - 0s 5ms/step - loss: 6.9206 - mae: 6.9206\n",
      "Epoch 95/100\n",
      "1/1 [==============================] - 0s 9ms/step - loss: 6.9150 - mae: 6.9150\n",
      "Epoch 96/100\n",
      "1/1 [==============================] - 0s 3ms/step - loss: 6.9094 - mae: 6.9094\n",
      "Epoch 97/100\n",
      "1/1 [==============================] - 0s 5ms/step - loss: 6.9038 - mae: 6.9038\n",
      "Epoch 98/100\n",
      "1/1 [==============================] - 0s 5ms/step - loss: 6.8981 - mae: 6.8981\n",
      "Epoch 99/100\n",
      "1/1 [==============================] - 0s 6ms/step - loss: 6.8925 - mae: 6.8925\n",
      "Epoch 100/100\n",
      "1/1 [==============================] - 0s 7ms/step - loss: 6.8869 - mae: 6.8869\n"
     ]
    },
    {
     "data": {
      "text/plain": [
       "<tensorflow.python.keras.callbacks.History at 0x7f491831c250>"
      ]
     },
     "execution_count": 13,
     "metadata": {},
     "output_type": "execute_result"
    }
   ],
   "source": [
    "model.fit(x,y,epochs=100)"
   ]
  },
  {
   "cell_type": "code",
   "execution_count": 14,
   "id": "6712e1ce",
   "metadata": {},
   "outputs": [
    {
     "data": {
      "text/plain": [
       "array([[29.739855]], dtype=float32)"
      ]
     },
     "execution_count": 14,
     "metadata": {},
     "output_type": "execute_result"
    }
   ],
   "source": [
    "model.predict([17.0])"
   ]
  },
  {
   "cell_type": "code",
   "execution_count": 15,
   "id": "020fc8b2",
   "metadata": {},
   "outputs": [],
   "source": [
    "# Improving our model\n",
    "# Create the model\n",
    "model = tf.keras.Sequential([\n",
    "    tf.keras.layers.Dense(100, activation=\"relu\"),\n",
    "    tf.keras.layers.Dense(1)\n",
    "])"
   ]
  },
  {
   "cell_type": "code",
   "execution_count": 16,
   "id": "ba926b45",
   "metadata": {},
   "outputs": [],
   "source": [
    "# Compile a model\n",
    "model.compile(loss=\"mae\",\n",
    "              optimizer=tf.keras.optimizers.Adam(learning_rate=0.01),\n",
    "              metrics=[\"mae\"])"
   ]
  },
  {
   "cell_type": "code",
   "execution_count": 17,
   "id": "2969fa5c",
   "metadata": {},
   "outputs": [
    {
     "name": "stdout",
     "output_type": "stream",
     "text": [
      "Epoch 1/100\n",
      "1/1 [==============================] - 0s 485ms/step - loss: 12.3193 - mae: 12.3193\n",
      "Epoch 2/100\n",
      "1/1 [==============================] - 0s 4ms/step - loss: 11.5062 - mae: 11.5062\n",
      "Epoch 3/100\n",
      "1/1 [==============================] - 0s 7ms/step - loss: 10.6739 - mae: 10.6739\n",
      "Epoch 4/100\n",
      "1/1 [==============================] - 0s 5ms/step - loss: 9.8419 - mae: 9.8419\n",
      "Epoch 5/100\n",
      "1/1 [==============================] - 0s 7ms/step - loss: 8.9962 - mae: 8.9962\n",
      "Epoch 6/100\n",
      "1/1 [==============================] - 0s 5ms/step - loss: 8.1347 - mae: 8.1347\n",
      "Epoch 7/100\n",
      "1/1 [==============================] - 0s 6ms/step - loss: 7.4053 - mae: 7.4053\n",
      "Epoch 8/100\n",
      "1/1 [==============================] - 0s 7ms/step - loss: 6.6763 - mae: 6.6763\n",
      "Epoch 9/100\n",
      "1/1 [==============================] - 0s 6ms/step - loss: 5.9141 - mae: 5.9141\n",
      "Epoch 10/100\n",
      "1/1 [==============================] - 0s 4ms/step - loss: 5.1125 - mae: 5.1125\n",
      "Epoch 11/100\n",
      "1/1 [==============================] - 0s 6ms/step - loss: 4.2653 - mae: 4.2653\n",
      "Epoch 12/100\n",
      "1/1 [==============================] - 0s 9ms/step - loss: 3.8460 - mae: 3.8460\n",
      "Epoch 13/100\n",
      "1/1 [==============================] - 0s 10ms/step - loss: 3.9257 - mae: 3.9257\n",
      "Epoch 14/100\n",
      "1/1 [==============================] - 0s 8ms/step - loss: 4.0900 - mae: 4.0900\n",
      "Epoch 15/100\n",
      "1/1 [==============================] - 0s 6ms/step - loss: 4.4780 - mae: 4.4780\n",
      "Epoch 16/100\n",
      "1/1 [==============================] - 0s 5ms/step - loss: 4.7607 - mae: 4.7607\n",
      "Epoch 17/100\n",
      "1/1 [==============================] - 0s 8ms/step - loss: 4.9264 - mae: 4.9264\n",
      "Epoch 18/100\n",
      "1/1 [==============================] - 0s 4ms/step - loss: 4.9893 - mae: 4.9893\n",
      "Epoch 19/100\n",
      "1/1 [==============================] - 0s 6ms/step - loss: 4.9672 - mae: 4.9672\n",
      "Epoch 20/100\n",
      "1/1 [==============================] - 0s 8ms/step - loss: 4.8677 - mae: 4.8677\n",
      "Epoch 21/100\n",
      "1/1 [==============================] - ETA: 0s - loss: 4.7046 - mae: 4.704 - 0s 6ms/step - loss: 4.7046 - mae: 4.7046\n",
      "Epoch 22/100\n",
      "1/1 [==============================] - 0s 9ms/step - loss: 4.4896 - mae: 4.4896\n",
      "Epoch 23/100\n",
      "1/1 [==============================] - 0s 6ms/step - loss: 4.2326 - mae: 4.2326\n",
      "Epoch 24/100\n",
      "1/1 [==============================] - 0s 7ms/step - loss: 3.9418 - mae: 3.9418\n",
      "Epoch 25/100\n",
      "1/1 [==============================] - 0s 7ms/step - loss: 3.7886 - mae: 3.7886\n",
      "Epoch 26/100\n",
      "1/1 [==============================] - 0s 12ms/step - loss: 3.6632 - mae: 3.6632\n",
      "Epoch 27/100\n",
      "1/1 [==============================] - 0s 5ms/step - loss: 3.5392 - mae: 3.5392\n",
      "Epoch 28/100\n",
      "1/1 [==============================] - 0s 6ms/step - loss: 3.5531 - mae: 3.5531\n",
      "Epoch 29/100\n",
      "1/1 [==============================] - 0s 8ms/step - loss: 3.6208 - mae: 3.6208\n",
      "Epoch 30/100\n",
      "1/1 [==============================] - 0s 10ms/step - loss: 3.6577 - mae: 3.6577\n",
      "Epoch 31/100\n",
      "1/1 [==============================] - 0s 5ms/step - loss: 3.7506 - mae: 3.7506\n",
      "Epoch 32/100\n",
      "1/1 [==============================] - 0s 7ms/step - loss: 3.7093 - mae: 3.7093\n",
      "Epoch 33/100\n",
      "1/1 [==============================] - 0s 9ms/step - loss: 3.5338 - mae: 3.5338\n",
      "Epoch 34/100\n",
      "1/1 [==============================] - 0s 12ms/step - loss: 3.4270 - mae: 3.4270\n",
      "Epoch 35/100\n",
      "1/1 [==============================] - 0s 9ms/step - loss: 3.3004 - mae: 3.3004\n",
      "Epoch 36/100\n",
      "1/1 [==============================] - 0s 9ms/step - loss: 3.1545 - mae: 3.1545\n",
      "Epoch 37/100\n",
      "1/1 [==============================] - 0s 9ms/step - loss: 3.0648 - mae: 3.0648\n",
      "Epoch 38/100\n",
      "1/1 [==============================] - 0s 11ms/step - loss: 3.0459 - mae: 3.0459\n",
      "Epoch 39/100\n",
      "1/1 [==============================] - 0s 8ms/step - loss: 3.0209 - mae: 3.0209\n",
      "Epoch 40/100\n",
      "1/1 [==============================] - 0s 5ms/step - loss: 3.0347 - mae: 3.0347\n",
      "Epoch 41/100\n",
      "1/1 [==============================] - 0s 6ms/step - loss: 2.9867 - mae: 2.9867\n",
      "Epoch 42/100\n",
      "1/1 [==============================] - 0s 7ms/step - loss: 2.8887 - mae: 2.8887\n",
      "Epoch 43/100\n",
      "1/1 [==============================] - 0s 5ms/step - loss: 2.8175 - mae: 2.8175\n",
      "Epoch 44/100\n",
      "1/1 [==============================] - 0s 4ms/step - loss: 2.7250 - mae: 2.7250\n",
      "Epoch 45/100\n",
      "1/1 [==============================] - 0s 4ms/step - loss: 2.6172 - mae: 2.6172\n",
      "Epoch 46/100\n",
      "1/1 [==============================] - 0s 4ms/step - loss: 2.5069 - mae: 2.5069\n",
      "Epoch 47/100\n",
      "1/1 [==============================] - 0s 5ms/step - loss: 2.4002 - mae: 2.4002\n",
      "Epoch 48/100\n",
      "1/1 [==============================] - 0s 5ms/step - loss: 2.2894 - mae: 2.2894\n",
      "Epoch 49/100\n",
      "1/1 [==============================] - 0s 7ms/step - loss: 2.1712 - mae: 2.1712\n",
      "Epoch 50/100\n",
      "1/1 [==============================] - 0s 5ms/step - loss: 2.0403 - mae: 2.0403\n",
      "Epoch 51/100\n",
      "1/1 [==============================] - 0s 12ms/step - loss: 1.9989 - mae: 1.9989\n",
      "Epoch 52/100\n",
      "1/1 [==============================] - 0s 6ms/step - loss: 1.8725 - mae: 1.8725\n",
      "Epoch 53/100\n",
      "1/1 [==============================] - 0s 6ms/step - loss: 1.7026 - mae: 1.7026\n",
      "Epoch 54/100\n",
      "1/1 [==============================] - 0s 5ms/step - loss: 1.5747 - mae: 1.5747\n",
      "Epoch 55/100\n",
      "1/1 [==============================] - 0s 5ms/step - loss: 1.4753 - mae: 1.4753\n",
      "Epoch 56/100\n",
      "1/1 [==============================] - 0s 6ms/step - loss: 1.3545 - mae: 1.3545\n",
      "Epoch 57/100\n",
      "1/1 [==============================] - 0s 7ms/step - loss: 1.2392 - mae: 1.2392\n",
      "Epoch 58/100\n",
      "1/1 [==============================] - 0s 6ms/step - loss: 1.0315 - mae: 1.0315\n",
      "Epoch 59/100\n",
      "1/1 [==============================] - 0s 4ms/step - loss: 0.8339 - mae: 0.8339\n",
      "Epoch 60/100\n",
      "1/1 [==============================] - 0s 5ms/step - loss: 0.6625 - mae: 0.6625\n",
      "Epoch 61/100\n",
      "1/1 [==============================] - 0s 6ms/step - loss: 0.5088 - mae: 0.5088\n",
      "Epoch 62/100\n",
      "1/1 [==============================] - ETA: 0s - loss: 0.3310 - mae: 0.331 - 0s 5ms/step - loss: 0.3310 - mae: 0.3310\n",
      "Epoch 63/100\n",
      "1/1 [==============================] - 0s 6ms/step - loss: 0.3306 - mae: 0.3306\n",
      "Epoch 64/100\n",
      "1/1 [==============================] - 0s 5ms/step - loss: 0.3330 - mae: 0.3330\n",
      "Epoch 65/100\n",
      "1/1 [==============================] - 0s 5ms/step - loss: 0.2128 - mae: 0.2128\n",
      "Epoch 66/100\n",
      "1/1 [==============================] - 0s 6ms/step - loss: 0.6744 - mae: 0.6744\n",
      "Epoch 67/100\n",
      "1/1 [==============================] - 0s 5ms/step - loss: 0.6279 - mae: 0.6279\n",
      "Epoch 68/100\n",
      "1/1 [==============================] - 0s 5ms/step - loss: 0.6085 - mae: 0.6085\n",
      "Epoch 69/100\n",
      "1/1 [==============================] - 0s 5ms/step - loss: 0.7257 - mae: 0.7257\n",
      "Epoch 70/100\n",
      "1/1 [==============================] - 0s 5ms/step - loss: 0.6237 - mae: 0.6237\n",
      "Epoch 71/100\n",
      "1/1 [==============================] - 0s 5ms/step - loss: 0.3928 - mae: 0.3928\n",
      "Epoch 72/100\n",
      "1/1 [==============================] - 0s 4ms/step - loss: 0.5721 - mae: 0.5721\n",
      "Epoch 73/100\n",
      "1/1 [==============================] - 0s 6ms/step - loss: 0.6972 - mae: 0.6972\n",
      "Epoch 74/100\n",
      "1/1 [==============================] - 0s 6ms/step - loss: 0.4927 - mae: 0.4927\n",
      "Epoch 75/100\n",
      "1/1 [==============================] - 0s 4ms/step - loss: 0.5584 - mae: 0.5584\n",
      "Epoch 76/100\n",
      "1/1 [==============================] - 0s 3ms/step - loss: 0.5706 - mae: 0.5706\n",
      "Epoch 77/100\n",
      "1/1 [==============================] - 0s 5ms/step - loss: 0.4548 - mae: 0.4548\n",
      "Epoch 78/100\n",
      "1/1 [==============================] - 0s 4ms/step - loss: 0.2732 - mae: 0.2732\n",
      "Epoch 79/100\n",
      "1/1 [==============================] - 0s 5ms/step - loss: 0.6350 - mae: 0.6350\n",
      "Epoch 80/100\n",
      "1/1 [==============================] - 0s 6ms/step - loss: 0.7159 - mae: 0.7159\n",
      "Epoch 81/100\n",
      "1/1 [==============================] - 0s 8ms/step - loss: 0.4848 - mae: 0.4848\n",
      "Epoch 82/100\n",
      "1/1 [==============================] - 0s 5ms/step - loss: 0.1989 - mae: 0.1989\n",
      "Epoch 83/100\n",
      "1/1 [==============================] - 0s 5ms/step - loss: 0.3396 - mae: 0.3396\n",
      "Epoch 84/100\n",
      "1/1 [==============================] - 0s 8ms/step - loss: 0.2129 - mae: 0.2129\n",
      "Epoch 85/100\n",
      "1/1 [==============================] - 0s 9ms/step - loss: 0.3691 - mae: 0.3691\n",
      "Epoch 86/100\n",
      "1/1 [==============================] - 0s 11ms/step - loss: 0.4716 - mae: 0.4716\n",
      "Epoch 87/100\n",
      "1/1 [==============================] - 0s 10ms/step - loss: 0.3323 - mae: 0.3323\n",
      "Epoch 88/100\n"
     ]
    },
    {
     "name": "stdout",
     "output_type": "stream",
     "text": [
      "1/1 [==============================] - 0s 10ms/step - loss: 0.2552 - mae: 0.2552\n",
      "Epoch 89/100\n",
      "1/1 [==============================] - 0s 13ms/step - loss: 0.3310 - mae: 0.3310\n",
      "Epoch 90/100\n",
      "1/1 [==============================] - 0s 5ms/step - loss: 0.2381 - mae: 0.2381\n",
      "Epoch 91/100\n",
      "1/1 [==============================] - 0s 4ms/step - loss: 0.2594 - mae: 0.2594\n",
      "Epoch 92/100\n",
      "1/1 [==============================] - 0s 6ms/step - loss: 0.2367 - mae: 0.2367\n",
      "Epoch 93/100\n",
      "1/1 [==============================] - 0s 5ms/step - loss: 0.1750 - mae: 0.1750\n",
      "Epoch 94/100\n",
      "1/1 [==============================] - 0s 6ms/step - loss: 0.2303 - mae: 0.2303\n",
      "Epoch 95/100\n",
      "1/1 [==============================] - 0s 5ms/step - loss: 0.1337 - mae: 0.1337\n",
      "Epoch 96/100\n",
      "1/1 [==============================] - 0s 4ms/step - loss: 0.1930 - mae: 0.1930\n",
      "Epoch 97/100\n",
      "1/1 [==============================] - 0s 5ms/step - loss: 0.1098 - mae: 0.1098\n",
      "Epoch 98/100\n",
      "1/1 [==============================] - 0s 5ms/step - loss: 0.2055 - mae: 0.2055\n",
      "Epoch 99/100\n",
      "1/1 [==============================] - 0s 3ms/step - loss: 0.1987 - mae: 0.1987\n",
      "Epoch 100/100\n",
      "1/1 [==============================] - 0s 3ms/step - loss: 0.2264 - mae: 0.2264\n"
     ]
    },
    {
     "data": {
      "text/plain": [
       "<tensorflow.python.keras.callbacks.History at 0x7f491827ce20>"
      ]
     },
     "execution_count": 17,
     "metadata": {},
     "output_type": "execute_result"
    }
   ],
   "source": [
    "# Fit the model\n",
    "model.fit(x,y,epochs=100)"
   ]
  },
  {
   "cell_type": "code",
   "execution_count": 18,
   "id": "a829650a",
   "metadata": {},
   "outputs": [
    {
     "data": {
      "text/plain": [
       "(array([-7., -4., -1.,  2.,  5.,  8., 11., 14.]),\n",
       " array([ 3.,  6.,  9., 12., 15., 18., 21., 24.]))"
      ]
     },
     "execution_count": 18,
     "metadata": {},
     "output_type": "execute_result"
    }
   ],
   "source": [
    "x,y"
   ]
  },
  {
   "cell_type": "code",
   "execution_count": 19,
   "id": "8baa3f61",
   "metadata": {},
   "outputs": [
    {
     "data": {
      "text/plain": [
       "array([[27.159164]], dtype=float32)"
      ]
     },
     "execution_count": 19,
     "metadata": {},
     "output_type": "execute_result"
    }
   ],
   "source": [
    "model.predict([17.0])"
   ]
  },
  {
   "cell_type": "code",
   "execution_count": 20,
   "id": "17d5c767",
   "metadata": {},
   "outputs": [
    {
     "data": {
      "text/plain": [
       "<tf.Tensor: shape=(50,), dtype=int32, numpy=\n",
       "array([-100,  -96,  -92,  -88,  -84,  -80,  -76,  -72,  -68,  -64,  -60,\n",
       "        -56,  -52,  -48,  -44,  -40,  -36,  -32,  -28,  -24,  -20,  -16,\n",
       "        -12,   -8,   -4,    0,    4,    8,   12,   16,   20,   24,   28,\n",
       "         32,   36,   40,   44,   48,   52,   56,   60,   64,   68,   72,\n",
       "         76,   80,   84,   88,   92,   96], dtype=int32)>"
      ]
     },
     "execution_count": 20,
     "metadata": {},
     "output_type": "execute_result"
    }
   ],
   "source": [
    "x = tf.range(-100,100,4)\n",
    "x"
   ]
  },
  {
   "cell_type": "code",
   "execution_count": 21,
   "id": "b30452cc",
   "metadata": {},
   "outputs": [
    {
     "data": {
      "text/plain": [
       "<tf.Tensor: shape=(50,), dtype=int32, numpy=\n",
       "array([-90, -86, -82, -78, -74, -70, -66, -62, -58, -54, -50, -46, -42,\n",
       "       -38, -34, -30, -26, -22, -18, -14, -10,  -6,  -2,   2,   6,  10,\n",
       "        14,  18,  22,  26,  30,  34,  38,  42,  46,  50,  54,  58,  62,\n",
       "        66,  70,  74,  78,  82,  86,  90,  94,  98, 102, 106], dtype=int32)>"
      ]
     },
     "execution_count": 21,
     "metadata": {},
     "output_type": "execute_result"
    }
   ],
   "source": [
    "y = x + 10\n",
    "y"
   ]
  },
  {
   "cell_type": "code",
   "execution_count": 22,
   "id": "5ac2a8bf",
   "metadata": {},
   "outputs": [
    {
     "data": {
      "text/plain": [
       "<matplotlib.collections.PathCollection at 0x7f491834eac0>"
      ]
     },
     "execution_count": 22,
     "metadata": {},
     "output_type": "execute_result"
    },
    {
     "data": {
      "image/png": "[encoded data removed]",
      "text/plain": [
       "<Figure size 432x288 with 1 Axes>"
      ]
     },
     "metadata": {
      "needs_background": "light"
     },
     "output_type": "display_data"
    }
   ],
   "source": [
    "import matplotlib.pyplot as plt\n",
    "\n",
    "plt.scatter(x,y)"
   ]
  },
  {
   "cell_type": "code",
   "execution_count": 23,
   "id": "e38dca2b",
   "metadata": {},
   "outputs": [],
   "source": [
    "#  3 sets\n",
    "x_train = x[:40]\n",
    "y_train = y[:40]"
   ]
  },
  {
   "cell_type": "code",
   "execution_count": 24,
   "id": "e57c31a3",
   "metadata": {},
   "outputs": [],
   "source": [
    "x_test = x[40:]\n",
    "y_test = y[40:]"
   ]
  },
  {
   "cell_type": "code",
   "execution_count": 25,
   "id": "f41b8379",
   "metadata": {},
   "outputs": [
    {
     "data": {
      "text/plain": [
       "<matplotlib.collections.PathCollection at 0x7f490c3ce040>"
      ]
     },
     "execution_count": 25,
     "metadata": {},
     "output_type": "execute_result"
    },
    {
     "data": {
      "image/png": "[encoded data removed]",
      "text/plain": [
       "<Figure size 720x504 with 1 Axes>"
      ]
     },
     "metadata": {
      "needs_background": "light"
     },
     "output_type": "display_data"
    }
   ],
   "source": [
    "# Visualizing the data\n",
    "plt.figure(figsize=(10,7))\n",
    "# Plot test data in green\n",
    "plt.scatter(x_train, y_train, c=\"b\", label=\"Training data\")\n",
    "# Plot test data in green\n",
    "plt.scatter(x_test, y_test, c=\"g\", label=\"Testing data\")"
   ]
  },
  {
   "cell_type": "code",
   "execution_count": 26,
   "id": "28cbe17c",
   "metadata": {},
   "outputs": [
    {
     "name": "stdout",
     "output_type": "stream",
     "text": [
      "Epoch 1/100\n",
      "2/2 [==============================] - 0s 4ms/step - loss: 10.5273 - mae: 10.5273\n",
      "Epoch 2/100\n",
      "2/2 [==============================] - 0s 3ms/step - loss: 9.3906 - mae: 9.3906\n",
      "Epoch 3/100\n",
      "2/2 [==============================] - 0s 6ms/step - loss: 7.6292 - mae: 7.6292\n",
      "Epoch 4/100\n",
      "2/2 [==============================] - 0s 6ms/step - loss: 9.6859 - mae: 9.6859\n",
      "Epoch 5/100\n",
      "2/2 [==============================] - 0s 4ms/step - loss: 11.0740 - mae: 11.0740\n",
      "Epoch 6/100\n",
      "2/2 [==============================] - 0s 4ms/step - loss: 10.2264 - mae: 10.2264\n",
      "Epoch 7/100\n",
      "2/2 [==============================] - 0s 7ms/step - loss: 9.2347 - mae: 9.2347\n",
      "Epoch 8/100\n",
      "2/2 [==============================] - 0s 3ms/step - loss: 9.1547 - mae: 9.1547\n",
      "Epoch 9/100\n",
      "2/2 [==============================] - 0s 4ms/step - loss: 11.7875 - mae: 11.7875\n",
      "Epoch 10/100\n",
      "2/2 [==============================] - 0s 6ms/step - loss: 13.7172 - mae: 13.7172\n",
      "Epoch 11/100\n",
      "2/2 [==============================] - 0s 4ms/step - loss: 11.8015 - mae: 11.8015\n",
      "Epoch 12/100\n",
      "2/2 [==============================] - 0s 3ms/step - loss: 16.3555 - mae: 16.3555\n",
      "Epoch 13/100\n",
      "2/2 [==============================] - 0s 5ms/step - loss: 11.9043 - mae: 11.9043\n",
      "Epoch 14/100\n",
      "2/2 [==============================] - 0s 6ms/step - loss: 13.8239 - mae: 13.8239\n",
      "Epoch 15/100\n",
      "2/2 [==============================] - 0s 4ms/step - loss: 11.2084 - mae: 11.2084\n",
      "Epoch 16/100\n",
      "2/2 [==============================] - 0s 3ms/step - loss: 8.5877 - mae: 8.5877\n",
      "Epoch 17/100\n",
      "2/2 [==============================] - 0s 5ms/step - loss: 13.7567 - mae: 13.7567\n",
      "Epoch 18/100\n",
      "2/2 [==============================] - 0s 6ms/step - loss: 11.6177 - mae: 11.6177\n",
      "Epoch 19/100\n",
      "2/2 [==============================] - 0s 5ms/step - loss: 17.7100 - mae: 17.7100\n",
      "Epoch 20/100\n",
      "2/2 [==============================] - 0s 9ms/step - loss: 14.8462 - mae: 14.8462\n",
      "Epoch 21/100\n",
      "2/2 [==============================] - 0s 3ms/step - loss: 10.7513 - mae: 10.7513\n",
      "Epoch 22/100\n",
      "2/2 [==============================] - 0s 4ms/step - loss: 8.4917 - mae: 8.4917\n",
      "Epoch 23/100\n",
      "2/2 [==============================] - 0s 5ms/step - loss: 9.7766 - mae: 9.7766\n",
      "Epoch 24/100\n",
      "2/2 [==============================] - 0s 9ms/step - loss: 10.8531 - mae: 10.8531\n",
      "Epoch 25/100\n",
      "2/2 [==============================] - 0s 5ms/step - loss: 9.1113 - mae: 9.1113\n",
      "Epoch 26/100\n",
      "2/2 [==============================] - 0s 5ms/step - loss: 13.0840 - mae: 13.0840\n",
      "Epoch 27/100\n",
      "2/2 [==============================] - 0s 8ms/step - loss: 10.4066 - mae: 10.4066\n",
      "Epoch 28/100\n",
      "2/2 [==============================] - 0s 7ms/step - loss: 13.4238 - mae: 13.4238\n",
      "Epoch 29/100\n",
      "2/2 [==============================] - 0s 4ms/step - loss: 9.6076 - mae: 9.6076\n",
      "Epoch 30/100\n",
      "2/2 [==============================] - 0s 8ms/step - loss: 17.2601 - mae: 17.2601\n",
      "Epoch 31/100\n",
      "2/2 [==============================] - 0s 6ms/step - loss: 22.8003 - mae: 22.8003\n",
      "Epoch 32/100\n",
      "2/2 [==============================] - 0s 4ms/step - loss: 7.9049 - mae: 7.9049\n",
      "Epoch 33/100\n",
      "2/2 [==============================] - 0s 10ms/step - loss: 14.1734 - mae: 14.1734\n",
      "Epoch 34/100\n",
      "2/2 [==============================] - 0s 4ms/step - loss: 12.4283 - mae: 12.4283\n",
      "Epoch 35/100\n",
      "2/2 [==============================] - 0s 6ms/step - loss: 8.2339 - mae: 8.2339\n",
      "Epoch 36/100\n",
      "2/2 [==============================] - 0s 12ms/step - loss: 10.4408 - mae: 10.4408\n",
      "Epoch 37/100\n",
      "2/2 [==============================] - 0s 4ms/step - loss: 10.0926 - mae: 10.0926\n",
      "Epoch 38/100\n",
      "2/2 [==============================] - 0s 3ms/step - loss: 11.2658 - mae: 11.2658\n",
      "Epoch 39/100\n",
      "2/2 [==============================] - 0s 6ms/step - loss: 14.7947 - mae: 14.7947\n",
      "Epoch 40/100\n",
      "2/2 [==============================] - 0s 4ms/step - loss: 12.9246 - mae: 12.9246\n",
      "Epoch 41/100\n",
      "2/2 [==============================] - 0s 7ms/step - loss: 9.3199 - mae: 9.3199\n",
      "Epoch 42/100\n",
      "2/2 [==============================] - 0s 4ms/step - loss: 10.9560 - mae: 10.9560\n",
      "Epoch 43/100\n",
      "2/2 [==============================] - 0s 4ms/step - loss: 8.3161 - mae: 8.3161\n",
      "Epoch 44/100\n",
      "2/2 [==============================] - 0s 4ms/step - loss: 12.9795 - mae: 12.9795\n",
      "Epoch 45/100\n",
      "2/2 [==============================] - 0s 3ms/step - loss: 13.7222 - mae: 13.7222\n",
      "Epoch 46/100\n",
      "2/2 [==============================] - 0s 5ms/step - loss: 8.4129 - mae: 8.4129\n",
      "Epoch 47/100\n",
      "2/2 [==============================] - 0s 3ms/step - loss: 9.1536 - mae: 9.1536\n",
      "Epoch 48/100\n",
      "2/2 [==============================] - 0s 4ms/step - loss: 10.6543 - mae: 10.6543\n",
      "Epoch 49/100\n",
      "2/2 [==============================] - 0s 3ms/step - loss: 7.7674 - mae: 7.7674\n",
      "Epoch 50/100\n",
      "2/2 [==============================] - 0s 4ms/step - loss: 9.5726 - mae: 9.5726\n",
      "Epoch 51/100\n",
      "2/2 [==============================] - 0s 3ms/step - loss: 9.1575 - mae: 9.1575\n",
      "Epoch 52/100\n",
      "2/2 [==============================] - 0s 5ms/step - loss: 16.4515 - mae: 16.4515\n",
      "Epoch 53/100\n",
      "2/2 [==============================] - 0s 4ms/step - loss: 14.0818 - mae: 14.0818\n",
      "Epoch 54/100\n",
      "2/2 [==============================] - 0s 5ms/step - loss: 21.0172 - mae: 21.0172\n",
      "Epoch 55/100\n",
      "2/2 [==============================] - 0s 7ms/step - loss: 16.4738 - mae: 16.4738\n",
      "Epoch 56/100\n",
      "2/2 [==============================] - 0s 4ms/step - loss: 9.8662 - mae: 9.8662\n",
      "Epoch 57/100\n",
      "2/2 [==============================] - 0s 4ms/step - loss: 9.6413 - mae: 9.6413\n",
      "Epoch 58/100\n",
      "2/2 [==============================] - 0s 4ms/step - loss: 8.9628 - mae: 8.9628\n",
      "Epoch 59/100\n",
      "2/2 [==============================] - 0s 6ms/step - loss: 10.1686 - mae: 10.1686\n",
      "Epoch 60/100\n",
      "2/2 [==============================] - 0s 7ms/step - loss: 8.4129 - mae: 8.4129\n",
      "Epoch 61/100\n",
      "2/2 [==============================] - 0s 4ms/step - loss: 9.2533 - mae: 9.2533\n",
      "Epoch 62/100\n",
      "2/2 [==============================] - 0s 4ms/step - loss: 7.0626 - mae: 7.0626\n",
      "Epoch 63/100\n",
      "2/2 [==============================] - 0s 4ms/step - loss: 8.6398 - mae: 8.6398\n",
      "Epoch 64/100\n",
      "2/2 [==============================] - 0s 4ms/step - loss: 9.2166 - mae: 9.2166\n",
      "Epoch 65/100\n",
      "2/2 [==============================] - 0s 4ms/step - loss: 10.4767 - mae: 10.4767\n",
      "Epoch 66/100\n",
      "2/2 [==============================] - 0s 4ms/step - loss: 15.6303 - mae: 15.6303\n",
      "Epoch 67/100\n",
      "2/2 [==============================] - 0s 5ms/step - loss: 10.0248 - mae: 10.0248\n",
      "Epoch 68/100\n",
      "2/2 [==============================] - 0s 3ms/step - loss: 9.0030 - mae: 9.0030\n",
      "Epoch 69/100\n",
      "2/2 [==============================] - 0s 4ms/step - loss: 12.4993 - mae: 12.4993\n",
      "Epoch 70/100\n",
      "2/2 [==============================] - 0s 5ms/step - loss: 8.9709 - mae: 8.9709\n",
      "Epoch 71/100\n",
      "2/2 [==============================] - 0s 4ms/step - loss: 9.9493 - mae: 9.9493\n",
      "Epoch 72/100\n",
      "2/2 [==============================] - 0s 4ms/step - loss: 9.9817 - mae: 9.9817\n",
      "Epoch 73/100\n",
      "2/2 [==============================] - 0s 3ms/step - loss: 12.4756 - mae: 12.4756\n",
      "Epoch 74/100\n",
      "2/2 [==============================] - 0s 3ms/step - loss: 10.5140 - mae: 10.5140\n",
      "Epoch 75/100\n",
      "2/2 [==============================] - 0s 3ms/step - loss: 9.6442 - mae: 9.6442\n",
      "Epoch 76/100\n",
      "2/2 [==============================] - 0s 3ms/step - loss: 11.1190 - mae: 11.1190\n",
      "Epoch 77/100\n",
      "2/2 [==============================] - 0s 4ms/step - loss: 8.2914 - mae: 8.2914\n",
      "Epoch 78/100\n",
      "2/2 [==============================] - 0s 4ms/step - loss: 8.9997 - mae: 8.9997\n",
      "Epoch 79/100\n",
      "2/2 [==============================] - 0s 3ms/step - loss: 19.7057 - mae: 19.7057\n",
      "Epoch 80/100\n",
      "2/2 [==============================] - 0s 3ms/step - loss: 17.8733 - mae: 17.8733\n",
      "Epoch 81/100\n",
      "2/2 [==============================] - 0s 3ms/step - loss: 7.0400 - mae: 7.0400\n",
      "Epoch 82/100\n",
      "2/2 [==============================] - 0s 3ms/step - loss: 10.4264 - mae: 10.4264\n",
      "Epoch 83/100\n",
      "2/2 [==============================] - 0s 3ms/step - loss: 9.8572 - mae: 9.8572\n",
      "Epoch 84/100\n",
      "2/2 [==============================] - 0s 3ms/step - loss: 7.9069 - mae: 7.9069\n",
      "Epoch 85/100\n",
      "2/2 [==============================] - 0s 3ms/step - loss: 9.4048 - mae: 9.4048\n",
      "Epoch 86/100\n",
      "2/2 [==============================] - 0s 5ms/step - loss: 9.2307 - mae: 9.2307\n",
      "Epoch 87/100\n",
      "2/2 [==============================] - 0s 3ms/step - loss: 12.0129 - mae: 12.0129\n",
      "Epoch 88/100\n"
     ]
    },
    {
     "name": "stdout",
     "output_type": "stream",
     "text": [
      "2/2 [==============================] - 0s 3ms/step - loss: 10.6296 - mae: 10.6296\n",
      "Epoch 89/100\n",
      "2/2 [==============================] - 0s 4ms/step - loss: 7.2506 - mae: 7.2506\n",
      "Epoch 90/100\n",
      "2/2 [==============================] - 0s 3ms/step - loss: 12.7702 - mae: 12.7702\n",
      "Epoch 91/100\n",
      "2/2 [==============================] - 0s 3ms/step - loss: 7.4544 - mae: 7.4544\n",
      "Epoch 92/100\n",
      "2/2 [==============================] - 0s 3ms/step - loss: 6.7385 - mae: 6.7385\n",
      "Epoch 93/100\n",
      "2/2 [==============================] - 0s 3ms/step - loss: 11.9206 - mae: 11.9206\n",
      "Epoch 94/100\n",
      "2/2 [==============================] - 0s 3ms/step - loss: 8.8548 - mae: 8.8548\n",
      "Epoch 95/100\n",
      "2/2 [==============================] - 0s 4ms/step - loss: 7.6966 - mae: 7.6966\n",
      "Epoch 96/100\n",
      "2/2 [==============================] - 0s 4ms/step - loss: 6.7327 - mae: 6.7327\n",
      "Epoch 97/100\n",
      "2/2 [==============================] - 0s 4ms/step - loss: 8.6033 - mae: 8.6033\n",
      "Epoch 98/100\n",
      "2/2 [==============================] - 0s 4ms/step - loss: 9.3858 - mae: 9.3858\n",
      "Epoch 99/100\n",
      "2/2 [==============================] - 0s 3ms/step - loss: 9.1203 - mae: 9.1203\n",
      "Epoch 100/100\n",
      "2/2 [==============================] - 0s 3ms/step - loss: 10.4808 - mae: 10.4808\n"
     ]
    },
    {
     "data": {
      "text/plain": [
       "<tensorflow.python.keras.callbacks.History at 0x7f490c39e3d0>"
      ]
     },
     "execution_count": 26,
     "metadata": {},
     "output_type": "execute_result"
    }
   ],
   "source": [
    "# Building a neural network\n",
    "model = tf.keras.Sequential([\n",
    "    tf.keras.layers.Dense(1)\n",
    "])\n",
    "\n",
    "model.compile(loss = tf.keras.losses.mae,\n",
    "             optimizer=tf.keras.optimizers.SGD(),\n",
    "             metrics=[\"mae\"])\n",
    "\n",
    "model.fit(x_train, y_train,epochs=100)"
   ]
  },
  {
   "cell_type": "code",
   "execution_count": 27,
   "id": "17c67249",
   "metadata": {},
   "outputs": [],
   "source": [
    "# Visualize the model\n",
    "tf.random.set_seed(42)"
   ]
  },
  {
   "cell_type": "code",
   "execution_count": 28,
   "id": "2956f026",
   "metadata": {},
   "outputs": [
    {
     "name": "stdout",
     "output_type": "stream",
     "text": [
      "Epoch 1/100\n",
      "2/2 [==============================] - 0s 3ms/step - loss: 27.4058 - mae: 27.4058\n",
      "Epoch 2/100\n",
      "2/2 [==============================] - 0s 4ms/step - loss: 24.6339 - mae: 24.6339\n",
      "Epoch 3/100\n",
      "2/2 [==============================] - 0s 9ms/step - loss: 29.8935 - mae: 29.8935\n",
      "Epoch 4/100\n",
      "2/2 [==============================] - 0s 3ms/step - loss: 27.4055 - mae: 27.4055\n",
      "Epoch 5/100\n",
      "2/2 [==============================] - 0s 6ms/step - loss: 14.9463 - mae: 14.9463\n",
      "Epoch 6/100\n",
      "2/2 [==============================] - 0s 6ms/step - loss: 11.8819 - mae: 11.8819\n",
      "Epoch 7/100\n",
      "2/2 [==============================] - 0s 4ms/step - loss: 11.1988 - mae: 11.1988\n",
      "Epoch 8/100\n",
      "2/2 [==============================] - 0s 8ms/step - loss: 11.0910 - mae: 11.0910\n",
      "Epoch 9/100\n",
      "2/2 [==============================] - 0s 7ms/step - loss: 40.4763 - mae: 40.4763\n",
      "Epoch 10/100\n",
      "2/2 [==============================] - 0s 7ms/step - loss: 27.8687 - mae: 27.8687\n",
      "Epoch 11/100\n",
      "2/2 [==============================] - 0s 4ms/step - loss: 10.2473 - mae: 10.2473\n",
      "Epoch 12/100\n",
      "2/2 [==============================] - 0s 4ms/step - loss: 25.2803 - mae: 25.2803\n",
      "Epoch 13/100\n",
      "2/2 [==============================] - 0s 6ms/step - loss: 16.9897 - mae: 16.9897\n",
      "Epoch 14/100\n",
      "2/2 [==============================] - 0s 7ms/step - loss: 25.9217 - mae: 25.9217\n",
      "Epoch 15/100\n",
      "2/2 [==============================] - 0s 8ms/step - loss: 17.9948 - mae: 17.9948\n",
      "Epoch 16/100\n",
      "2/2 [==============================] - 0s 4ms/step - loss: 7.3510 - mae: 7.3510\n",
      "Epoch 17/100\n",
      "2/2 [==============================] - 0s 5ms/step - loss: 10.8636 - mae: 10.8636\n",
      "Epoch 18/100\n",
      "2/2 [==============================] - 0s 7ms/step - loss: 19.5304 - mae: 19.5304\n",
      "Epoch 19/100\n",
      "2/2 [==============================] - 0s 4ms/step - loss: 10.3469 - mae: 10.3469\n",
      "Epoch 20/100\n",
      "2/2 [==============================] - 0s 8ms/step - loss: 17.6985 - mae: 17.6985\n",
      "Epoch 21/100\n",
      "2/2 [==============================] - 0s 8ms/step - loss: 15.8985 - mae: 15.8985\n",
      "Epoch 22/100\n",
      "2/2 [==============================] - 0s 5ms/step - loss: 14.1991 - mae: 14.1991\n",
      "Epoch 23/100\n",
      "2/2 [==============================] - 0s 6ms/step - loss: 8.7720 - mae: 8.7720\n",
      "Epoch 24/100\n",
      "2/2 [==============================] - 0s 7ms/step - loss: 11.0570 - mae: 11.0570\n",
      "Epoch 25/100\n",
      "2/2 [==============================] - 0s 8ms/step - loss: 12.6838 - mae: 12.6838\n",
      "Epoch 26/100\n",
      "2/2 [==============================] - 0s 6ms/step - loss: 26.1877 - mae: 26.1877\n",
      "Epoch 27/100\n",
      "2/2 [==============================] - 0s 9ms/step - loss: 11.7432 - mae: 11.7432\n",
      "Epoch 28/100\n",
      "2/2 [==============================] - ETA: 0s - loss: 24.6258 - mae: 24.625 - 0s 6ms/step - loss: 22.8730 - mae: 22.8730\n",
      "Epoch 29/100\n",
      "2/2 [==============================] - 0s 5ms/step - loss: 9.2459 - mae: 9.2459\n",
      "Epoch 30/100\n",
      "2/2 [==============================] - 0s 6ms/step - loss: 29.2641 - mae: 29.2641\n",
      "Epoch 31/100\n",
      "2/2 [==============================] - 0s 4ms/step - loss: 53.0224 - mae: 53.0224\n",
      "Epoch 32/100\n",
      "2/2 [==============================] - 0s 7ms/step - loss: 11.9951 - mae: 11.9951\n",
      "Epoch 33/100\n",
      "2/2 [==============================] - 0s 7ms/step - loss: 15.6357 - mae: 15.6357\n",
      "Epoch 34/100\n",
      "2/2 [==============================] - 0s 5ms/step - loss: 12.6925 - mae: 12.6925\n",
      "Epoch 35/100\n",
      "2/2 [==============================] - 0s 5ms/step - loss: 9.2398 - mae: 9.2398\n",
      "Epoch 36/100\n",
      "2/2 [==============================] - 0s 5ms/step - loss: 16.6497 - mae: 16.6497\n",
      "Epoch 37/100\n",
      "2/2 [==============================] - 0s 5ms/step - loss: 11.0382 - mae: 11.0382\n",
      "Epoch 38/100\n",
      "2/2 [==============================] - 0s 7ms/step - loss: 18.1634 - mae: 18.1634\n",
      "Epoch 39/100\n",
      "2/2 [==============================] - 0s 7ms/step - loss: 19.1013 - mae: 19.1013\n",
      "Epoch 40/100\n",
      "2/2 [==============================] - 0s 5ms/step - loss: 20.4324 - mae: 20.4324\n",
      "Epoch 41/100\n",
      "2/2 [==============================] - 0s 5ms/step - loss: 14.9102 - mae: 14.9102\n",
      "Epoch 42/100\n",
      "2/2 [==============================] - 0s 4ms/step - loss: 12.2809 - mae: 12.2809\n",
      "Epoch 43/100\n",
      "2/2 [==============================] - 0s 5ms/step - loss: 10.7333 - mae: 10.7333\n",
      "Epoch 44/100\n",
      "2/2 [==============================] - 0s 7ms/step - loss: 23.0260 - mae: 23.0260\n",
      "Epoch 45/100\n",
      "2/2 [==============================] - 0s 12ms/step - loss: 10.3897 - mae: 10.3897\n",
      "Epoch 46/100\n",
      "2/2 [==============================] - 0s 9ms/step - loss: 11.7904 - mae: 11.7904\n",
      "Epoch 47/100\n",
      "2/2 [==============================] - 0s 9ms/step - loss: 9.6438 - mae: 9.6438\n",
      "Epoch 48/100\n",
      "2/2 [==============================] - 0s 8ms/step - loss: 17.2335 - mae: 17.2335\n",
      "Epoch 49/100\n",
      "2/2 [==============================] - 0s 6ms/step - loss: 9.5729 - mae: 9.5729\n",
      "Epoch 50/100\n",
      "2/2 [==============================] - 0s 5ms/step - loss: 13.8185 - mae: 13.8185\n",
      "Epoch 51/100\n",
      "2/2 [==============================] - 0s 3ms/step - loss: 11.5958 - mae: 11.5958\n",
      "Epoch 52/100\n",
      "2/2 [==============================] - 0s 4ms/step - loss: 30.5538 - mae: 30.5538\n",
      "Epoch 53/100\n",
      "2/2 [==============================] - 0s 4ms/step - loss: 14.3541 - mae: 14.3541\n",
      "Epoch 54/100\n",
      "2/2 [==============================] - 0s 4ms/step - loss: 23.9713 - mae: 23.9713\n",
      "Epoch 55/100\n",
      "2/2 [==============================] - 0s 4ms/step - loss: 23.1938 - mae: 23.1938\n",
      "Epoch 56/100\n",
      "2/2 [==============================] - 0s 4ms/step - loss: 10.8837 - mae: 10.8837\n",
      "Epoch 57/100\n",
      "2/2 [==============================] - 0s 4ms/step - loss: 12.7445 - mae: 12.7445\n",
      "Epoch 58/100\n",
      "2/2 [==============================] - 0s 5ms/step - loss: 9.5995 - mae: 9.5995\n",
      "Epoch 59/100\n",
      "2/2 [==============================] - 0s 6ms/step - loss: 12.5172 - mae: 12.5172\n",
      "Epoch 60/100\n",
      "2/2 [==============================] - 0s 7ms/step - loss: 12.3200 - mae: 12.3200\n",
      "Epoch 61/100\n",
      "2/2 [==============================] - 0s 4ms/step - loss: 17.4604 - mae: 17.4604\n",
      "Epoch 62/100\n",
      "2/2 [==============================] - 0s 6ms/step - loss: 10.6052 - mae: 10.6052\n",
      "Epoch 63/100\n",
      "2/2 [==============================] - 0s 3ms/step - loss: 10.4893 - mae: 10.4893\n",
      "Epoch 64/100\n",
      "2/2 [==============================] - 0s 5ms/step - loss: 24.8450 - mae: 24.8450\n",
      "Epoch 65/100\n",
      "2/2 [==============================] - 0s 6ms/step - loss: 10.6761 - mae: 10.6761\n",
      "Epoch 66/100\n",
      "2/2 [==============================] - 0s 6ms/step - loss: 21.7809 - mae: 21.7809\n",
      "Epoch 67/100\n",
      "2/2 [==============================] - 0s 5ms/step - loss: 10.7136 - mae: 10.7136\n",
      "Epoch 68/100\n",
      "2/2 [==============================] - 0s 5ms/step - loss: 10.6397 - mae: 10.6397\n",
      "Epoch 69/100\n",
      "2/2 [==============================] - 0s 10ms/step - loss: 22.6914 - mae: 22.6914\n",
      "Epoch 70/100\n",
      "2/2 [==============================] - 0s 9ms/step - loss: 9.3316 - mae: 9.3316\n",
      "Epoch 71/100\n",
      "2/2 [==============================] - 0s 7ms/step - loss: 15.4355 - mae: 15.4355\n",
      "Epoch 72/100\n",
      "2/2 [==============================] - 0s 7ms/step - loss: 6.7437 - mae: 6.7437\n",
      "Epoch 73/100\n",
      "2/2 [==============================] - 0s 4ms/step - loss: 11.6891 - mae: 11.6891\n",
      "Epoch 74/100\n",
      "2/2 [==============================] - 0s 5ms/step - loss: 24.0400 - mae: 24.0400\n",
      "Epoch 75/100\n",
      "2/2 [==============================] - 0s 5ms/step - loss: 9.5896 - mae: 9.5896\n",
      "Epoch 76/100\n",
      "2/2 [==============================] - 0s 4ms/step - loss: 12.4371 - mae: 12.4371\n",
      "Epoch 77/100\n",
      "2/2 [==============================] - 0s 8ms/step - loss: 16.6488 - mae: 16.6488\n",
      "Epoch 78/100\n",
      "2/2 [==============================] - 0s 5ms/step - loss: 9.0614 - mae: 9.0614\n",
      "Epoch 79/100\n",
      "2/2 [==============================] - 0s 5ms/step - loss: 23.9675 - mae: 23.9675\n",
      "Epoch 80/100\n",
      "2/2 [==============================] - 0s 6ms/step - loss: 26.7463 - mae: 26.7463\n",
      "Epoch 81/100\n",
      "2/2 [==============================] - 0s 4ms/step - loss: 11.6714 - mae: 11.6714\n",
      "Epoch 82/100\n",
      "2/2 [==============================] - 0s 5ms/step - loss: 12.0228 - mae: 12.0228\n",
      "Epoch 83/100\n",
      "2/2 [==============================] - 0s 6ms/step - loss: 17.4218 - mae: 17.4218\n",
      "Epoch 84/100\n",
      "2/2 [==============================] - 0s 6ms/step - loss: 7.2629 - mae: 7.2629\n",
      "Epoch 85/100\n",
      "2/2 [==============================] - 0s 6ms/step - loss: 14.9650 - mae: 14.9650\n",
      "Epoch 86/100\n",
      "2/2 [==============================] - 0s 4ms/step - loss: 15.2862 - mae: 15.2862\n",
      "Epoch 87/100\n"
     ]
    },
    {
     "name": "stdout",
     "output_type": "stream",
     "text": [
      "2/2 [==============================] - 0s 3ms/step - loss: 19.1086 - mae: 19.1086\n",
      "Epoch 88/100\n",
      "2/2 [==============================] - 0s 5ms/step - loss: 29.8228 - mae: 29.8228\n",
      "Epoch 89/100\n",
      "2/2 [==============================] - 0s 5ms/step - loss: 10.1742 - mae: 10.1742\n",
      "Epoch 90/100\n",
      "2/2 [==============================] - 0s 4ms/step - loss: 21.5240 - mae: 21.5240\n",
      "Epoch 91/100\n",
      "2/2 [==============================] - 0s 3ms/step - loss: 10.5716 - mae: 10.5716\n",
      "Epoch 92/100\n",
      "2/2 [==============================] - 0s 3ms/step - loss: 18.3977 - mae: 18.3977\n",
      "Epoch 93/100\n",
      "2/2 [==============================] - 0s 6ms/step - loss: 7.4138 - mae: 7.4138\n",
      "Epoch 94/100\n",
      "2/2 [==============================] - 0s 3ms/step - loss: 17.7380 - mae: 17.7380\n",
      "Epoch 95/100\n",
      "2/2 [==============================] - 0s 3ms/step - loss: 11.1144 - mae: 11.1144\n",
      "Epoch 96/100\n",
      "2/2 [==============================] - 0s 4ms/step - loss: 19.4346 - mae: 19.4346\n",
      "Epoch 97/100\n",
      "2/2 [==============================] - 0s 4ms/step - loss: 12.1593 - mae: 12.1593\n",
      "Epoch 98/100\n",
      "2/2 [==============================] - 0s 6ms/step - loss: 11.5653 - mae: 11.5653\n",
      "Epoch 99/100\n",
      "2/2 [==============================] - 0s 10ms/step - loss: 13.8827 - mae: 13.8827\n",
      "Epoch 100/100\n",
      "2/2 [==============================] - 0s 8ms/step - loss: 20.2277 - mae: 20.2277\n"
     ]
    },
    {
     "data": {
      "text/plain": [
       "<tensorflow.python.keras.callbacks.History at 0x7f490ffc8f10>"
      ]
     },
     "execution_count": 28,
     "metadata": {},
     "output_type": "execute_result"
    }
   ],
   "source": [
    "# Create a model (same as above)\n",
    "model = tf.keras.Sequential([\n",
    "    tf.keras.layers.Dense(10,input_shape=[1], name=\"input_layer\"),\n",
    "    tf.keras.layers.Dense(1,name=\"output_layer\")\n",
    "], name=\"model_1\")\n",
    "\n",
    "\n",
    "model.compile(loss = tf.keras.losses.mae,\n",
    "             optimizer=tf.keras.optimizers.SGD(),\n",
    "             metrics=[\"mae\"])\n",
    "\n",
    "model.fit(x_train, y_train,epochs=100)"
   ]
  },
  {
   "cell_type": "code",
   "execution_count": 29,
   "id": "85faa41e",
   "metadata": {},
   "outputs": [
    {
     "name": "stdout",
     "output_type": "stream",
     "text": [
      "Model: \"model_1\"\n",
      "_________________________________________________________________\n",
      "Layer (type)                 Output Shape              Param #   \n",
      "=================================================================\n",
      "input_layer (Dense)          (None, 10)                20        \n",
      "_________________________________________________________________\n",
      "output_layer (Dense)         (None, 1)                 11        \n",
      "=================================================================\n",
      "Total params: 31\n",
      "Trainable params: 31\n",
      "Non-trainable params: 0\n",
      "_________________________________________________________________\n"
     ]
    }
   ],
   "source": [
    "model.summary()"
   ]
  },
  {
   "cell_type": "code",
   "execution_count": 30,
   "id": "6372614d",
   "metadata": {},
   "outputs": [
    {
     "data": {
      "text/plain": [
       "<tensorflow.python.keras.callbacks.History at 0x7f490ff46160>"
      ]
     },
     "execution_count": 30,
     "metadata": {},
     "output_type": "execute_result"
    }
   ],
   "source": [
    "model.fit(x_train,y_train,epochs=100,verbose=0)"
   ]
  },
  {
   "cell_type": "code",
   "execution_count": 31,
   "id": "5ff3499a",
   "metadata": {
    "scrolled": true
   },
   "outputs": [
    {
     "name": "stdout",
     "output_type": "stream",
     "text": [
      "Model: \"model_1\"\n",
      "_________________________________________________________________\n",
      "Layer (type)                 Output Shape              Param #   \n",
      "=================================================================\n",
      "input_layer (Dense)          (None, 10)                20        \n",
      "_________________________________________________________________\n",
      "output_layer (Dense)         (None, 1)                 11        \n",
      "=================================================================\n",
      "Total params: 31\n",
      "Trainable params: 31\n",
      "Non-trainable params: 0\n",
      "_________________________________________________________________\n"
     ]
    }
   ],
   "source": [
    "model.summary()"
   ]
  },
  {
   "cell_type": "code",
   "execution_count": 32,
   "id": "4e2b746c",
   "metadata": {},
   "outputs": [
    {
     "data": {
      "image/png": "[encoded data removed]",
      "text/plain": [
       "<IPython.core.display.Image object>"
      ]
     },
     "execution_count": 32,
     "metadata": {},
     "output_type": "execute_result"
    }
   ],
   "source": [
    "from tensorflow.keras.utils import plot_model\n",
    "\n",
    "plot_model(model=model, show_shapes=True)"
   ]
  },
  {
   "cell_type": "code",
   "execution_count": 35,
   "id": "0922e9e1",
   "metadata": {},
   "outputs": [
    {
     "data": {
      "text/plain": [
       "array([[ 89.45975 ],\n",
       "       [ 95.197296],\n",
       "       [100.93482 ],\n",
       "       [106.67236 ],\n",
       "       [112.40988 ],\n",
       "       [118.147415],\n",
       "       [123.88494 ],\n",
       "       [129.62248 ],\n",
       "       [135.36    ],\n",
       "       [141.09753 ]], dtype=float32)"
      ]
     },
     "execution_count": 35,
     "metadata": {},
     "output_type": "execute_result"
    }
   ],
   "source": [
    "# Visualizing the model's predictions\n",
    "y_pred = model.predict(x_test)\n",
    "y_pred"
   ]
  },
  {
   "cell_type": "code",
   "execution_count": 36,
   "id": "9f8b77c6",
   "metadata": {},
   "outputs": [
    {
     "data": {
      "text/plain": [
       "<tf.Tensor: shape=(10,), dtype=int32, numpy=array([ 70,  74,  78,  82,  86,  90,  94,  98, 102, 106], dtype=int32)>"
      ]
     },
     "execution_count": 36,
     "metadata": {},
     "output_type": "execute_result"
    }
   ],
   "source": [
    "y_test"
   ]
  },
  {
   "cell_type": "code",
   "execution_count": 38,
   "id": "b8745901",
   "metadata": {},
   "outputs": [],
   "source": [
    "def plot_predictions(train_data=x_train,\n",
    "                     train_label = y_train,\n",
    "                     test_data=x_test,\n",
    "                    test_label=y_test,\n",
    "                    predictions= y_pred):\n",
    "    plt.figure(figsize=(10,7))\n",
    "#     Plot training data in blue\n",
    "    plt.scatter(train_data,train_label,c=\"b\",label=\"Training data\")\n",
    "    #     Plot training data in green\n",
    "    plt.scatter(train_data,train_label,c=\"b\",label=\"Training data\")"
   ]
  }
 ],
 "metadata": {
  "kernelspec": {
   "display_name": "Python 3",
   "language": "python",
   "name": "python3"
  },
  "language_info": {
   "codemirror_mode": {
    "name": "ipython",
    "version": 3
   },
   "file_extension": ".py",
   "mimetype": "text/x-python",
   "name": "python",
   "nbconvert_exporter": "python",
   "pygments_lexer": "ipython3",
   "version": "3.8.5"
  }
 },
 "nbformat": 4,
 "nbformat_minor": 5
}
